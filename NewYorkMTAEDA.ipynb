{
 "cells": [
  {
   "cell_type": "code",
   "execution_count": 1,
   "metadata": {},
   "outputs": [],
   "source": [
    "#Import module\n",
    "import pandas as pd\n",
    "import numpy as np\n",
    "import matplotlib.pyplot as plt\n",
    "import seaborn as sb"
   ]
  },
  {
   "cell_type": "code",
   "execution_count": 2,
   "metadata": {},
   "outputs": [],
   "source": [
    "#read from web (prioritise on June)\n",
    "june = [180602, 180609, 180616, 180623, 180630]\n",
    "url = 'http://web.mta.info/developers/data/nyct/turnstile/turnstile_{}.txt'\n",
    "df_list = []\n",
    "for week in june:\n",
    "    df_list.append(pd.read_csv(url.format(week)))\n",
    "df_mta = pd.concat(df_list)"
   ]
  },
  {
   "cell_type": "code",
   "execution_count": 5,
   "metadata": {},
   "outputs": [
    {
     "name": "stdout",
     "output_type": "stream",
     "text": [
      "    C/A  UNIT       SCP STATION LINENAME DIVISION        DATE      TIME  \\\n",
      "0  A002  R051  02-00-00   59 ST  NQR456W      BMT  05/26/2018  00:00:00   \n",
      "1  A002  R051  02-00-00   59 ST  NQR456W      BMT  05/26/2018  04:00:00   \n",
      "2  A002  R051  02-00-00   59 ST  NQR456W      BMT  05/26/2018  08:00:00   \n",
      "3  A002  R051  02-00-00   59 ST  NQR456W      BMT  05/26/2018  12:00:00   \n",
      "4  A002  R051  02-00-00   59 ST  NQR456W      BMT  05/26/2018  16:00:00   \n",
      "\n",
      "      DESC  ENTRIES  \\\n",
      "0  REGULAR  6633898   \n",
      "1  REGULAR  6633916   \n",
      "2  REGULAR  6633928   \n",
      "3  REGULAR  6634015   \n",
      "4  REGULAR  6634173   \n",
      "\n",
      "   EXITS                                                                 \n",
      "0                                            2248498                     \n",
      "1                                            2248500                     \n",
      "2                                            2248517                     \n",
      "3                                            2248577                     \n",
      "4                                            2248610                     \n",
      "          C/A  UNIT       SCP        STATION LINENAME DIVISION        DATE  \\\n",
      "196685  TRAM2  R469  00-03-01  RIT-ROOSEVELT        R      RIT  06/29/2018   \n",
      "196686  TRAM2  R469  00-03-01  RIT-ROOSEVELT        R      RIT  06/29/2018   \n",
      "196687  TRAM2  R469  00-03-01  RIT-ROOSEVELT        R      RIT  06/29/2018   \n",
      "196688  TRAM2  R469  00-03-01  RIT-ROOSEVELT        R      RIT  06/29/2018   \n",
      "196689  TRAM2  R469  00-03-01  RIT-ROOSEVELT        R      RIT  06/29/2018   \n",
      "\n",
      "            TIME     DESC  ENTRIES  \\\n",
      "196685  05:00:00  REGULAR  2954731   \n",
      "196686  09:00:00  REGULAR  2954991   \n",
      "196687  13:00:00  REGULAR  2955443   \n",
      "196688  17:00:00  REGULAR  2955940   \n",
      "196689  21:00:00  REGULAR  2956334   \n",
      "\n",
      "        EXITS                                                                 \n",
      "196685                                             387681                     \n",
      "196686                                             387686                     \n",
      "196687                                             387690                     \n",
      "196688                                             387696                     \n",
      "196689                                             387720                     \n",
      "(983733, 11)\n"
     ]
    }
   ],
   "source": [
    "print (df_mta.head(5))\n",
    "print (df_mta.tail(5))\n",
    "print (df_mta.shape)"
   ]
  },
  {
   "cell_type": "code",
   "execution_count": 6,
   "metadata": {},
   "outputs": [
    {
     "data": {
      "text/plain": [
       "array(['05/26/2018', '05/27/2018', '05/28/2018', '05/29/2018',\n",
       "       '05/30/2018', '05/31/2018', '06/01/2018', '06/02/2018',\n",
       "       '06/03/2018', '06/04/2018', '06/05/2018', '06/06/2018',\n",
       "       '06/07/2018', '06/08/2018', '06/09/2018', '06/10/2018',\n",
       "       '06/11/2018', '06/12/2018', '06/13/2018', '06/14/2018',\n",
       "       '06/15/2018', '06/16/2018', '06/17/2018', '06/18/2018',\n",
       "       '06/19/2018', '06/20/2018', '06/21/2018', '06/22/2018',\n",
       "       '06/23/2018', '06/24/2018', '06/25/2018', '06/26/2018',\n",
       "       '06/27/2018', '06/28/2018', '06/29/2018'], dtype=object)"
      ]
     },
     "execution_count": 6,
     "metadata": {},
     "output_type": "execute_result"
    }
   ],
   "source": [
    "df_mta.DATE.unique()"
   ]
  },
  {
   "cell_type": "code",
   "execution_count": null,
   "metadata": {},
   "outputs": [],
   "source": []
  }
 ],
 "metadata": {
  "kernelspec": {
   "display_name": "Python 3",
   "language": "python",
   "name": "python3"
  },
  "language_info": {
   "codemirror_mode": {
    "name": "ipython",
    "version": 3
   },
   "file_extension": ".py",
   "mimetype": "text/x-python",
   "name": "python",
   "nbconvert_exporter": "python",
   "pygments_lexer": "ipython3",
   "version": "3.7.4"
  }
 },
 "nbformat": 4,
 "nbformat_minor": 2
}
